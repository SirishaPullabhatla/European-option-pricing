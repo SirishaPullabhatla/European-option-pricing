{
  "nbformat": 4,
  "nbformat_minor": 0,
  "metadata": {
    "colab": {
      "provenance": [],
      "authorship_tag": "ABX9TyPYJV1ZA0JgvwjeQjCx0ynl",
      "include_colab_link": true
    },
    "kernelspec": {
      "name": "python3",
      "display_name": "Python 3"
    },
    "language_info": {
      "name": "python"
    }
  },
  "cells": [
    {
      "cell_type": "markdown",
      "metadata": {
        "id": "view-in-github",
        "colab_type": "text"
      },
      "source": [
        "<a href=\"https://colab.research.google.com/github/SirishaPullabhatla/European-option-pricing/blob/Black-Scholes/Blackscholes.ipynb\" target=\"_parent\"><img src=\"https://colab.research.google.com/assets/colab-badge.svg\" alt=\"Open In Colab\"/></a>"
      ]
    },
    {
      "cell_type": "code",
      "execution_count": 1,
      "metadata": {
        "id": "FwTf_SIrRjQq"
      },
      "outputs": [],
      "source": [
        "import numpy as np\n",
        "import pandas as pd\n",
        "import scipy.stats"
      ]
    },
    {
      "cell_type": "code",
      "source": [
        "#creating a class for option pricing input\n",
        "class EUoption_pricing:\n",
        "\n",
        "  '''\n",
        "We are defining the basic black scholes formula to derive the European option pricing both call and put\n",
        "\n",
        "s0: current underlying stock price\n",
        "vol: is the frequency of movement of the stock in market\n",
        "k: is the strike price of the option which we want to take\n",
        "r: risk_free rate which we assume to be neutral and give the same payoff in all states of world even in uncertanity\n",
        "q: the dividend paid by the underlying company to the share holders\n",
        "T: number of days in years of time to maturity of option from trade date to maturity date\n",
        "\n",
        "  '''\n",
        "\n",
        "  def black_scholes(s0,vol,k,r,q,T):\n",
        "    N = scipy.stats.norm.cdf\n",
        "    d1 = (np.log(s0/k) + ( r + vol**2/2 ) * T)/ (vol * np.sqrt(T))\n",
        "    d2 = d1 - vol * np.sqrt(T)\n",
        "    call = s0 * np.exp(-q*T) * N(d1) - k * np.exp(-r*T) * N(d2)\n",
        "    put = k * np.exp(-r*T) * N(-d2) - s0 * np.exp(-q*T) * N(-d1)\n",
        "    user_input = input(\"Do you want to price call or a put option?: \").lower()\n",
        "    if user_input == \"call\":\n",
        "      return call\n",
        "    elif user_input == \"put\":\n",
        "      return put\n",
        "    else:\n",
        "      return user_input\n",
        "    \n",
        "  def option_parameters():\n",
        "    \n",
        "    s0 = float(input(\"Please enter current underlying stock price: \"))\n",
        "    vol = float(input(\"Historical volatility of the stock: \"))\n",
        "    k = float(input(\"Please enter the strike price of the option:  \"))\n",
        "    r = float(input(\"Please enter the risk_free rate in decimals: \"))\n",
        "    q = float(input(\"Please enter the continuously compounded dividend rate of the stock: \"))\n",
        "    T = float(input(\"Please enter the difference between trade date and maturity date in years: \"))\n",
        "    option_price = EUoption_pricing.black_scholes(s0,vol,k,r,q,T)\n",
        "    return option_price\n"
      ],
      "metadata": {
        "id": "9Yh3YwoZRnZp"
      },
      "execution_count": 2,
      "outputs": []
    },
    {
      "cell_type": "code",
      "source": [
        "EUoption_pricing.option_parameters()"
      ],
      "metadata": {
        "id": "_A5BHJQjRncM",
        "colab": {
          "base_uri": "https://localhost:8080/"
        },
        "outputId": "0bd0ab5a-8971-4e19-9036-7642018c7027"
      },
      "execution_count": null,
      "outputs": [
        {
          "name": "stdout",
          "output_type": "stream",
          "text": [
            "Please enter current underlying stock price: 100\n",
            "Historical volatility of the stock: 0.35\n",
            "Please enter the strike price of the option:  100\n",
            "Please enter the risk_free rate in decimals: 0.05\n",
            "Please enter the continuously compounded dividend rate of the stock: 0.00119\n",
            "Please enter the difference between trade date and maturity date in years: 1\n",
            "Do you want to price call or a put option?: put\n"
          ]
        },
        {
          "output_type": "execute_result",
          "data": {
            "text/plain": [
              "11.29600507082909"
            ]
          },
          "metadata": {},
          "execution_count": 14
        }
      ]
    },
    {
      "cell_type": "code",
      "source": [],
      "metadata": {
        "id": "RUPQwBAKRney"
      },
      "execution_count": 3,
      "outputs": []
    },
    {
      "cell_type": "code",
      "source": [],
      "metadata": {
        "id": "qkk8E8UHRnhN"
      },
      "execution_count": null,
      "outputs": []
    },
    {
      "cell_type": "code",
      "source": [],
      "metadata": {
        "id": "NqZWqFT0Rnjw"
      },
      "execution_count": null,
      "outputs": []
    },
    {
      "cell_type": "code",
      "source": [],
      "metadata": {
        "id": "oUR4kCnLRnmV"
      },
      "execution_count": null,
      "outputs": []
    },
    {
      "cell_type": "code",
      "source": [],
      "metadata": {
        "id": "64_HJT8bRnpD"
      },
      "execution_count": null,
      "outputs": []
    },
    {
      "cell_type": "code",
      "source": [],
      "metadata": {
        "id": "OBBFXI50Rnrr"
      },
      "execution_count": null,
      "outputs": []
    },
    {
      "cell_type": "code",
      "source": [],
      "metadata": {
        "id": "9OwdfSvURnt4"
      },
      "execution_count": null,
      "outputs": []
    },
    {
      "cell_type": "code",
      "source": [],
      "metadata": {
        "id": "S2IAd4QGRnws"
      },
      "execution_count": null,
      "outputs": []
    },
    {
      "cell_type": "code",
      "source": [],
      "metadata": {
        "id": "ssECR_2IRnzO"
      },
      "execution_count": null,
      "outputs": []
    },
    {
      "cell_type": "code",
      "source": [],
      "metadata": {
        "id": "GmEAXzdwRn16"
      },
      "execution_count": null,
      "outputs": []
    },
    {
      "cell_type": "code",
      "source": [],
      "metadata": {
        "id": "lko2mU_VRn4B"
      },
      "execution_count": null,
      "outputs": []
    },
    {
      "cell_type": "code",
      "source": [],
      "metadata": {
        "id": "PmHabZXxRn6z"
      },
      "execution_count": null,
      "outputs": []
    },
    {
      "cell_type": "code",
      "source": [],
      "metadata": {
        "id": "9LiwZpamRn9a"
      },
      "execution_count": null,
      "outputs": []
    },
    {
      "cell_type": "code",
      "source": [],
      "metadata": {
        "id": "QynDsgqGRn_x"
      },
      "execution_count": null,
      "outputs": []
    },
    {
      "cell_type": "code",
      "source": [],
      "metadata": {
        "id": "pnFfMM55RoCX"
      },
      "execution_count": null,
      "outputs": []
    },
    {
      "cell_type": "code",
      "source": [],
      "metadata": {
        "id": "1wsjJ1snRoF2"
      },
      "execution_count": null,
      "outputs": []
    },
    {
      "cell_type": "code",
      "source": [],
      "metadata": {
        "id": "0BIUVnY5RoID"
      },
      "execution_count": null,
      "outputs": []
    },
    {
      "cell_type": "code",
      "source": [],
      "metadata": {
        "id": "-ZMSMg24RoLL"
      },
      "execution_count": null,
      "outputs": []
    },
    {
      "cell_type": "code",
      "source": [],
      "metadata": {
        "id": "WDMVX0zdRoNY"
      },
      "execution_count": null,
      "outputs": []
    },
    {
      "cell_type": "code",
      "source": [],
      "metadata": {
        "id": "pxSoPs37RoP9"
      },
      "execution_count": null,
      "outputs": []
    },
    {
      "cell_type": "code",
      "source": [],
      "metadata": {
        "id": "-9ELueS3RoSw"
      },
      "execution_count": null,
      "outputs": []
    },
    {
      "cell_type": "code",
      "source": [],
      "metadata": {
        "id": "oSdejfuERoVJ"
      },
      "execution_count": null,
      "outputs": []
    },
    {
      "cell_type": "code",
      "source": [],
      "metadata": {
        "id": "mWs9uG6ERoXv"
      },
      "execution_count": null,
      "outputs": []
    },
    {
      "cell_type": "code",
      "source": [],
      "metadata": {
        "id": "DPnLZI57Roak"
      },
      "execution_count": null,
      "outputs": []
    },
    {
      "cell_type": "code",
      "source": [],
      "metadata": {
        "id": "JpW0le6wRoc6"
      },
      "execution_count": null,
      "outputs": []
    },
    {
      "cell_type": "code",
      "source": [],
      "metadata": {
        "id": "c-U-7AgcRofn"
      },
      "execution_count": null,
      "outputs": []
    },
    {
      "cell_type": "code",
      "source": [],
      "metadata": {
        "id": "ECUDJdO7Rohp"
      },
      "execution_count": null,
      "outputs": []
    },
    {
      "cell_type": "code",
      "source": [],
      "metadata": {
        "id": "u-EgywKbRokl"
      },
      "execution_count": null,
      "outputs": []
    },
    {
      "cell_type": "code",
      "source": [],
      "metadata": {
        "id": "HcKRcmwVRonW"
      },
      "execution_count": null,
      "outputs": []
    },
    {
      "cell_type": "code",
      "source": [],
      "metadata": {
        "id": "kP8HeCRJRoq5"
      },
      "execution_count": null,
      "outputs": []
    }
  ]
}